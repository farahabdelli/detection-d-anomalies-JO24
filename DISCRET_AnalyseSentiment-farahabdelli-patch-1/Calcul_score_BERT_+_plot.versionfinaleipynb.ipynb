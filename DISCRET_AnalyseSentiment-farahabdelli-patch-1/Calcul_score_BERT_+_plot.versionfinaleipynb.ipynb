{
  "nbformat": 4,
  "nbformat_minor": 0,
  "metadata": {
    "kernelspec": {
      "display_name": "Python 3",
      "language": "python",
      "name": "python3"
    },
    "language_info": {
      "codemirror_mode": {
        "name": "ipython",
        "version": 3
      },
      "file_extension": ".py",
      "mimetype": "text/x-python",
      "name": "python",
      "nbconvert_exporter": "python",
      "pygments_lexer": "ipython3",
      "version": "3.6.9"
    },
    "colab": {
      "name": "Calcul_score_BERT_+_plot.ipynb",
      "provenance": [],
      "collapsed_sections": [
        "vIfOW7bFwZW8",
        "Kc2SVxnkBTgQ"
      ],
      "machine_shape": "hm"
    },
    "accelerator": "GPU"
  },
  "cells": [
    {
      "cell_type": "markdown",
      "metadata": {
        "id": "vIfOW7bFwZW8"
      },
      "source": [
        "# import libraries and packages"
      ]
    },
    {
      "cell_type": "code",
      "metadata": {
        "colab": {
          "base_uri": "https://localhost:8080/"
        },
        "id": "4c48neBPtHDN",
        "outputId": "aa798bfb-8e61-4a19-86ca-2a0e7a92f710"
      },
      "source": [
        "\n",
        "# NLTk\n",
        "import nltk\n",
        "from nltk.corpus import stopwords\n",
        "from nltk import bigrams\n",
        "from nltk.stem import PorterStemmer\n",
        "\n",
        "#####\n",
        "nltk.download('punkt')\n",
        "from nltk import sent_tokenize, word_tokenize\n",
        "from nltk.stem.snowball import SnowballStemmer\n",
        "from nltk.stem.wordnet import WordNetLemmatizer\n",
        "from nltk.corpus import stopwords\n",
        "\n",
        "from nltk.tokenize import word_tokenize\n",
        "import random\n",
        "from nltk.corpus import movie_reviews\n",
        "import pickle\n",
        "from nltk.classify.scikitlearn import SklearnClassifier\n",
        "from nltk.classify import ClassifierI\n",
        "from statistics import mode"
      ],
      "execution_count": null,
      "outputs": [
        {
          "output_type": "stream",
          "text": [
            "[nltk_data] Downloading package punkt to /root/nltk_data...\n",
            "[nltk_data]   Package punkt is already up-to-date!\n"
          ],
          "name": "stdout"
        }
      ]
    },
    {
      "cell_type": "code",
      "metadata": {
        "id": "u1n6jCkStHDW"
      },
      "source": [
        "from sklearn.metrics import accuracy_score\n",
        "from sklearn.metrics import classification_report\n",
        "from sklearn.linear_model import LogisticRegression\n",
        "from sklearn.svm import SVC, LinearSVC, NuSVC\n",
        "from sklearn.model_selection import train_test_split\n",
        "from sklearn.metrics import f1_score\n",
        "from sklearn.preprocessing import StandardScaler\n",
        "from sklearn.feature_extraction.text import CountVectorizer\n",
        "from sklearn.metrics import accuracy_score, f1_score\n",
        "from sklearn.metrics import confusion_matrix\n",
        "from sklearn.linear_model import LogisticRegression,SGDClassifier\n",
        "from sklearn.feature_extraction.text import TfidfVectorizer, CountVectorizer \n",
        "import gensim\n",
        "import seaborn as sns\n",
        "from sklearn import svm\n",
        "from sklearn import metrics\n",
        "from sklearn.ensemble import RandomForestClassifier\n",
        "from xgboost import XGBClassifier\n"
      ],
      "execution_count": null,
      "outputs": []
    },
    {
      "cell_type": "code",
      "metadata": {
        "id": "5MYa0oA-tHDX"
      },
      "source": [
        "import tweepy\n",
        "import csv \n",
        "import pylab as P \n",
        "import networkx as nx \n",
        "import matplotlib.pyplot as plt\n",
        "%matplotlib inline\n",
        "import pandas as pd\n",
        "#!pip install textblob\n",
        "from textblob import TextBlob\n",
        "import re\n",
        "import pandas as pd\n",
        "import sys\n",
        "import spacy\n",
        "import nltk\n",
        "import warnings\n",
        "import numpy as np\n",
        "from os import path\n",
        "from PIL import Image\n",
        "from wordcloud import WordCloud, STOPWORDS, ImageColorGenerator\n",
        "import datetime\n",
        "import collections, re\n",
        "import time"
      ],
      "execution_count": null,
      "outputs": []
    },
    {
      "cell_type": "markdown",
      "metadata": {
        "id": "AsWAVQsAWjPV"
      },
      "source": [
        "# load data from local"
      ]
    },
    {
      "cell_type": "code",
      "metadata": {
        "colab": {
          "resources": {
            "http://localhost:8080/nbextensions/google.colab/files.js": {
              "data": "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",
              "ok": true,
              "headers": [
                [
                  "content-type",
                  "application/javascript"
                ]
              ],
              "status": 200,
              "status_text": ""
            }
          },
          "base_uri": "https://localhost:8080/",
          "height": 72
        },
        "id": "9wGZMDKsWg6V",
        "outputId": "4116e5ec-068b-45fc-e795-0ddfb1769d2c"
      },
      "source": [
        "import json\n",
        "from google.colab import files\n",
        "uploaded = files.upload()\n"
      ],
      "execution_count": null,
      "outputs": [
        {
          "output_type": "display_data",
          "data": {
            "text/html": [
              "\n",
              "     <input type=\"file\" id=\"files-e7854d1c-6359-45ec-b406-e97166e460c2\" name=\"files[]\" multiple disabled\n",
              "        style=\"border:none\" />\n",
              "     <output id=\"result-e7854d1c-6359-45ec-b406-e97166e460c2\">\n",
              "      Upload widget is only available when the cell has been executed in the\n",
              "      current browser session. Please rerun this cell to enable.\n",
              "      </output>\n",
              "      <script src=\"/nbextensions/google.colab/files.js\"></script> "
            ],
            "text/plain": [
              "<IPython.core.display.HTML object>"
            ]
          },
          "metadata": {
            "tags": []
          }
        },
        {
          "output_type": "stream",
          "text": [
            "Saving part-00000-475fdd9f-78b8-4c62-b39e-ce3b0341b5bc-c000Bert.json to part-00000-475fdd9f-78b8-4c62-b39e-ce3b0341b5bc-c000Bert.json\n"
          ],
          "name": "stdout"
        }
      ]
    },
    {
      "cell_type": "code",
      "metadata": {
        "id": "353nruFnHyEG"
      },
      "source": [
        "import os\n",
        "os.listdir()\n"
      ],
      "execution_count": null,
      "outputs": []
    },
    {
      "cell_type": "code",
      "metadata": {
        "colab": {
          "base_uri": "https://localhost:8080/"
        },
        "id": "OzeUjVFUYe6o",
        "outputId": "357850ac-9455-4afd-deb3-e0434bd80b5c"
      },
      "source": [
        "#importer les données depuis drive\n",
        "import pickle\n",
        "def load_dataset(dataset_path):\n",
        "  with open(dataset_path, 'rb') as reader:\n",
        "      data = pickle.load(reader)\n",
        "\n",
        "\n",
        "  return (data)\n",
        "\n",
        "from google.colab import drive\n",
        "drive.mount('/content/drive')\n",
        "\n",
        "path11 = \"/content/drive/My Drive/ANR-DISCRET/textavril21.pkl\"\n",
        "data20 = load_dataset(path11)\n",
        "\n",
        "\n",
        "\n"
      ],
      "execution_count": null,
      "outputs": [
        {
          "output_type": "stream",
          "text": [
            "Drive already mounted at /content/drive; to attempt to forcibly remount, call drive.mount(\"/content/drive\", force_remount=True).\n"
          ],
          "name": "stdout"
        }
      ]
    },
    {
      "cell_type": "code",
      "metadata": {
        "colab": {
          "base_uri": "https://localhost:8080/",
          "height": 406
        },
        "id": "4Ml7h_5RZXR-",
        "outputId": "fb35ed09-3c92-4ed7-f227-2e6c60709374"
      },
      "source": [
        "data20 = data20[['id_str','created_at','full_text']]\n",
        "data20\n"
      ],
      "execution_count": null,
      "outputs": [
        {
          "output_type": "execute_result",
          "data": {
            "text/html": [
              "<div>\n",
              "<style scoped>\n",
              "    .dataframe tbody tr th:only-of-type {\n",
              "        vertical-align: middle;\n",
              "    }\n",
              "\n",
              "    .dataframe tbody tr th {\n",
              "        vertical-align: top;\n",
              "    }\n",
              "\n",
              "    .dataframe thead th {\n",
              "        text-align: right;\n",
              "    }\n",
              "</style>\n",
              "<table border=\"1\" class=\"dataframe\">\n",
              "  <thead>\n",
              "    <tr style=\"text-align: right;\">\n",
              "      <th></th>\n",
              "      <th>id_str</th>\n",
              "      <th>created_at</th>\n",
              "      <th>full_text</th>\n",
              "    </tr>\n",
              "  </thead>\n",
              "  <tbody>\n",
              "    <tr>\n",
              "      <th>9994</th>\n",
              "      <td>1382846196859998214</td>\n",
              "      <td>Fri Apr 16 00:00:00 +0000 2021</td>\n",
              "      <td>🇫🇷 FLASH | Un #pédophile de 52 ans a été inter...</td>\n",
              "    </tr>\n",
              "    <tr>\n",
              "      <th>9997</th>\n",
              "      <td>1382846204619423746</td>\n",
              "      <td>Fri Apr 16 00:00:01 +0000 2021</td>\n",
              "      <td>Un jour viendra où les actes de ces criminels ...</td>\n",
              "    </tr>\n",
              "    <tr>\n",
              "      <th>9995</th>\n",
              "      <td>1382846201389780992</td>\n",
              "      <td>Fri Apr 16 00:00:01 +0000 2021</td>\n",
              "      <td>Pendant ce temps, à Lyon, Ememem répare les tr...</td>\n",
              "    </tr>\n",
              "    <tr>\n",
              "      <th>9996</th>\n",
              "      <td>1382846203742842885</td>\n",
              "      <td>Fri Apr 16 00:00:01 +0000 2021</td>\n",
              "      <td>Situation actuelle du #COVID-19 en #RDC\\n    -...</td>\n",
              "    </tr>\n",
              "    <tr>\n",
              "      <th>9998</th>\n",
              "      <td>1382846206754365441</td>\n",
              "      <td>Fri Apr 16 00:00:02 +0000 2021</td>\n",
              "      <td>🇫🇷 FLASH | #Paris : un #homme s’est #immolé a ...</td>\n",
              "    </tr>\n",
              "    <tr>\n",
              "      <th>...</th>\n",
              "      <td>...</td>\n",
              "      <td>...</td>\n",
              "      <td>...</td>\n",
              "    </tr>\n",
              "    <tr>\n",
              "      <th>16014</th>\n",
              "      <td>1387557215482040321</td>\n",
              "      <td>Wed Apr 28 23:59:54 +0000 2021</td>\n",
              "      <td>Mon cousin il a fait un accident, il a cru il ...</td>\n",
              "    </tr>\n",
              "    <tr>\n",
              "      <th>16015</th>\n",
              "      <td>1387557217231122433</td>\n",
              "      <td>Wed Apr 28 23:59:54 +0000 2021</td>\n",
              "      <td>Pourquoi les #média ne parlent-ils pas des déc...</td>\n",
              "    </tr>\n",
              "    <tr>\n",
              "      <th>16016</th>\n",
              "      <td>1387557223778250760</td>\n",
              "      <td>Wed Apr 28 23:59:56 +0000 2021</td>\n",
              "      <td>mds to triste</td>\n",
              "    </tr>\n",
              "    <tr>\n",
              "      <th>16017</th>\n",
              "      <td>1387557225867190277</td>\n",
              "      <td>Wed Apr 28 23:59:56 +0000 2021</td>\n",
              "      <td>🛰 FLASH - Thomas #Pesquet a partagé un cliché ...</td>\n",
              "    </tr>\n",
              "    <tr>\n",
              "      <th>16018</th>\n",
              "      <td>1387557238353670144</td>\n",
              "      <td>Wed Apr 28 23:59:59 +0000 2021</td>\n",
              "      <td>Paris en 2ème mi-temps #PSGCity https://t.co/E...</td>\n",
              "    </tr>\n",
              "  </tbody>\n",
              "</table>\n",
              "<p>5434802 rows × 3 columns</p>\n",
              "</div>"
            ],
            "text/plain": [
              "                    id_str  ...                                          full_text\n",
              "9994   1382846196859998214  ...  🇫🇷 FLASH | Un #pédophile de 52 ans a été inter...\n",
              "9997   1382846204619423746  ...  Un jour viendra où les actes de ces criminels ...\n",
              "9995   1382846201389780992  ...  Pendant ce temps, à Lyon, Ememem répare les tr...\n",
              "9996   1382846203742842885  ...  Situation actuelle du #COVID-19 en #RDC\\n    -...\n",
              "9998   1382846206754365441  ...  🇫🇷 FLASH | #Paris : un #homme s’est #immolé a ...\n",
              "...                    ...  ...                                                ...\n",
              "16014  1387557215482040321  ...  Mon cousin il a fait un accident, il a cru il ...\n",
              "16015  1387557217231122433  ...  Pourquoi les #média ne parlent-ils pas des déc...\n",
              "16016  1387557223778250760  ...                                      mds to triste\n",
              "16017  1387557225867190277  ...  🛰 FLASH - Thomas #Pesquet a partagé un cliché ...\n",
              "16018  1387557238353670144  ...  Paris en 2ème mi-temps #PSGCity https://t.co/E...\n",
              "\n",
              "[5434802 rows x 3 columns]"
            ]
          },
          "metadata": {
            "tags": []
          },
          "execution_count": 5
        }
      ]
    },
    {
      "cell_type": "markdown",
      "metadata": {
        "id": "eXV5W4JVQ3U7"
      },
      "source": [
        "# Plotting\n"
      ]
    },
    {
      "cell_type": "code",
      "metadata": {
        "id": "WMnbS-_NQ9vV",
        "colab": {
          "base_uri": "https://localhost:8080/",
          "height": 1000
        },
        "outputId": "af0041bb-55f7-4955-a717-d4464ec1db34"
      },
      "source": [
        "df['time'] = df['created_at'].dt.round('H')\n",
        "\n",
        "aggregation = {'cnt': ('id_str', 'count')}\n",
        "df_sentiment_by_time = df.groupby(['time', 'sentiment']).agg(**aggregation).reset_index()\n",
        "\n",
        "df_sentiment_by_time"
      ],
      "execution_count": null,
      "outputs": [
        {
          "output_type": "execute_result",
          "data": {
            "text/html": [
              "<div>\n",
              "<style scoped>\n",
              "    .dataframe tbody tr th:only-of-type {\n",
              "        vertical-align: middle;\n",
              "    }\n",
              "\n",
              "    .dataframe tbody tr th {\n",
              "        vertical-align: top;\n",
              "    }\n",
              "\n",
              "    .dataframe thead th {\n",
              "        text-align: right;\n",
              "    }\n",
              "</style>\n",
              "<table border=\"1\" class=\"dataframe\">\n",
              "  <thead>\n",
              "    <tr style=\"text-align: right;\">\n",
              "      <th></th>\n",
              "      <th>time</th>\n",
              "      <th>sentiment</th>\n",
              "      <th>cnt</th>\n",
              "    </tr>\n",
              "  </thead>\n",
              "  <tbody>\n",
              "    <tr>\n",
              "      <th>0</th>\n",
              "      <td>2019-04-16 18:00:00</td>\n",
              "      <td>Negative</td>\n",
              "      <td>375</td>\n",
              "    </tr>\n",
              "    <tr>\n",
              "      <th>1</th>\n",
              "      <td>2019-04-16 18:00:00</td>\n",
              "      <td>Neutral</td>\n",
              "      <td>69</td>\n",
              "    </tr>\n",
              "    <tr>\n",
              "      <th>2</th>\n",
              "      <td>2019-04-16 18:00:00</td>\n",
              "      <td>Positive</td>\n",
              "      <td>135</td>\n",
              "    </tr>\n",
              "    <tr>\n",
              "      <th>3</th>\n",
              "      <td>2019-04-16 19:00:00</td>\n",
              "      <td>Negative</td>\n",
              "      <td>595</td>\n",
              "    </tr>\n",
              "    <tr>\n",
              "      <th>4</th>\n",
              "      <td>2019-04-16 19:00:00</td>\n",
              "      <td>Neutral</td>\n",
              "      <td>144</td>\n",
              "    </tr>\n",
              "    <tr>\n",
              "      <th>5</th>\n",
              "      <td>2019-04-16 19:00:00</td>\n",
              "      <td>Positive</td>\n",
              "      <td>257</td>\n",
              "    </tr>\n",
              "    <tr>\n",
              "      <th>6</th>\n",
              "      <td>2019-04-16 20:00:00</td>\n",
              "      <td>Negative</td>\n",
              "      <td>437</td>\n",
              "    </tr>\n",
              "    <tr>\n",
              "      <th>7</th>\n",
              "      <td>2019-04-16 20:00:00</td>\n",
              "      <td>Neutral</td>\n",
              "      <td>74</td>\n",
              "    </tr>\n",
              "    <tr>\n",
              "      <th>8</th>\n",
              "      <td>2019-04-16 20:00:00</td>\n",
              "      <td>Positive</td>\n",
              "      <td>238</td>\n",
              "    </tr>\n",
              "    <tr>\n",
              "      <th>9</th>\n",
              "      <td>2019-04-16 21:00:00</td>\n",
              "      <td>Negative</td>\n",
              "      <td>357</td>\n",
              "    </tr>\n",
              "    <tr>\n",
              "      <th>10</th>\n",
              "      <td>2019-04-16 21:00:00</td>\n",
              "      <td>Neutral</td>\n",
              "      <td>64</td>\n",
              "    </tr>\n",
              "    <tr>\n",
              "      <th>11</th>\n",
              "      <td>2019-04-16 21:00:00</td>\n",
              "      <td>Positive</td>\n",
              "      <td>233</td>\n",
              "    </tr>\n",
              "    <tr>\n",
              "      <th>12</th>\n",
              "      <td>2019-04-16 22:00:00</td>\n",
              "      <td>Negative</td>\n",
              "      <td>282</td>\n",
              "    </tr>\n",
              "    <tr>\n",
              "      <th>13</th>\n",
              "      <td>2019-04-16 22:00:00</td>\n",
              "      <td>Neutral</td>\n",
              "      <td>44</td>\n",
              "    </tr>\n",
              "    <tr>\n",
              "      <th>14</th>\n",
              "      <td>2019-04-16 22:00:00</td>\n",
              "      <td>Positive</td>\n",
              "      <td>133</td>\n",
              "    </tr>\n",
              "    <tr>\n",
              "      <th>15</th>\n",
              "      <td>2019-04-16 23:00:00</td>\n",
              "      <td>Negative</td>\n",
              "      <td>115</td>\n",
              "    </tr>\n",
              "    <tr>\n",
              "      <th>16</th>\n",
              "      <td>2019-04-16 23:00:00</td>\n",
              "      <td>Neutral</td>\n",
              "      <td>22</td>\n",
              "    </tr>\n",
              "    <tr>\n",
              "      <th>17</th>\n",
              "      <td>2019-04-16 23:00:00</td>\n",
              "      <td>Positive</td>\n",
              "      <td>64</td>\n",
              "    </tr>\n",
              "    <tr>\n",
              "      <th>18</th>\n",
              "      <td>2019-04-17 00:00:00</td>\n",
              "      <td>Negative</td>\n",
              "      <td>53</td>\n",
              "    </tr>\n",
              "    <tr>\n",
              "      <th>19</th>\n",
              "      <td>2019-04-17 00:00:00</td>\n",
              "      <td>Neutral</td>\n",
              "      <td>4</td>\n",
              "    </tr>\n",
              "    <tr>\n",
              "      <th>20</th>\n",
              "      <td>2019-04-17 00:00:00</td>\n",
              "      <td>Positive</td>\n",
              "      <td>36</td>\n",
              "    </tr>\n",
              "    <tr>\n",
              "      <th>21</th>\n",
              "      <td>2019-04-17 01:00:00</td>\n",
              "      <td>Negative</td>\n",
              "      <td>44</td>\n",
              "    </tr>\n",
              "    <tr>\n",
              "      <th>22</th>\n",
              "      <td>2019-04-17 01:00:00</td>\n",
              "      <td>Neutral</td>\n",
              "      <td>2</td>\n",
              "    </tr>\n",
              "    <tr>\n",
              "      <th>23</th>\n",
              "      <td>2019-04-17 01:00:00</td>\n",
              "      <td>Positive</td>\n",
              "      <td>26</td>\n",
              "    </tr>\n",
              "    <tr>\n",
              "      <th>24</th>\n",
              "      <td>2019-04-17 02:00:00</td>\n",
              "      <td>Negative</td>\n",
              "      <td>44</td>\n",
              "    </tr>\n",
              "    <tr>\n",
              "      <th>25</th>\n",
              "      <td>2019-04-17 02:00:00</td>\n",
              "      <td>Neutral</td>\n",
              "      <td>5</td>\n",
              "    </tr>\n",
              "    <tr>\n",
              "      <th>26</th>\n",
              "      <td>2019-04-17 02:00:00</td>\n",
              "      <td>Positive</td>\n",
              "      <td>20</td>\n",
              "    </tr>\n",
              "    <tr>\n",
              "      <th>27</th>\n",
              "      <td>2019-04-17 03:00:00</td>\n",
              "      <td>Negative</td>\n",
              "      <td>55</td>\n",
              "    </tr>\n",
              "    <tr>\n",
              "      <th>28</th>\n",
              "      <td>2019-04-17 03:00:00</td>\n",
              "      <td>Neutral</td>\n",
              "      <td>5</td>\n",
              "    </tr>\n",
              "    <tr>\n",
              "      <th>29</th>\n",
              "      <td>2019-04-17 03:00:00</td>\n",
              "      <td>Positive</td>\n",
              "      <td>20</td>\n",
              "    </tr>\n",
              "    <tr>\n",
              "      <th>30</th>\n",
              "      <td>2019-04-17 04:00:00</td>\n",
              "      <td>Negative</td>\n",
              "      <td>59</td>\n",
              "    </tr>\n",
              "    <tr>\n",
              "      <th>31</th>\n",
              "      <td>2019-04-17 04:00:00</td>\n",
              "      <td>Neutral</td>\n",
              "      <td>12</td>\n",
              "    </tr>\n",
              "    <tr>\n",
              "      <th>32</th>\n",
              "      <td>2019-04-17 04:00:00</td>\n",
              "      <td>Positive</td>\n",
              "      <td>36</td>\n",
              "    </tr>\n",
              "  </tbody>\n",
              "</table>\n",
              "</div>"
            ],
            "text/plain": [
              "                  time sentiment  cnt\n",
              "0  2019-04-16 18:00:00  Negative  375\n",
              "1  2019-04-16 18:00:00   Neutral   69\n",
              "2  2019-04-16 18:00:00  Positive  135\n",
              "3  2019-04-16 19:00:00  Negative  595\n",
              "4  2019-04-16 19:00:00   Neutral  144\n",
              "5  2019-04-16 19:00:00  Positive  257\n",
              "6  2019-04-16 20:00:00  Negative  437\n",
              "7  2019-04-16 20:00:00   Neutral   74\n",
              "8  2019-04-16 20:00:00  Positive  238\n",
              "9  2019-04-16 21:00:00  Negative  357\n",
              "10 2019-04-16 21:00:00   Neutral   64\n",
              "11 2019-04-16 21:00:00  Positive  233\n",
              "12 2019-04-16 22:00:00  Negative  282\n",
              "13 2019-04-16 22:00:00   Neutral   44\n",
              "14 2019-04-16 22:00:00  Positive  133\n",
              "15 2019-04-16 23:00:00  Negative  115\n",
              "16 2019-04-16 23:00:00   Neutral   22\n",
              "17 2019-04-16 23:00:00  Positive   64\n",
              "18 2019-04-17 00:00:00  Negative   53\n",
              "19 2019-04-17 00:00:00   Neutral    4\n",
              "20 2019-04-17 00:00:00  Positive   36\n",
              "21 2019-04-17 01:00:00  Negative   44\n",
              "22 2019-04-17 01:00:00   Neutral    2\n",
              "23 2019-04-17 01:00:00  Positive   26\n",
              "24 2019-04-17 02:00:00  Negative   44\n",
              "25 2019-04-17 02:00:00   Neutral    5\n",
              "26 2019-04-17 02:00:00  Positive   20\n",
              "27 2019-04-17 03:00:00  Negative   55\n",
              "28 2019-04-17 03:00:00   Neutral    5\n",
              "29 2019-04-17 03:00:00  Positive   20\n",
              "30 2019-04-17 04:00:00  Negative   59\n",
              "31 2019-04-17 04:00:00   Neutral   12\n",
              "32 2019-04-17 04:00:00  Positive   36"
            ]
          },
          "metadata": {
            "tags": []
          },
          "execution_count": 44
        }
      ]
    },
    {
      "cell_type": "code",
      "metadata": {
        "colab": {
          "base_uri": "https://localhost:8080/",
          "height": 542
        },
        "id": "Tk-ItFUtmTgX",
        "outputId": "32a5f8e8-2d86-47bf-b239-d402d63fb029"
      },
      "source": [
        "import plotly.express as px\n",
        "fig = px.line(df_sentiment_by_time, x=\"time\", y=\"cnt\", color=\"sentiment\")\n",
        "fig.show()"
      ],
      "execution_count": null,
      "outputs": [
        {
          "output_type": "display_data",
          "data": {
            "text/html": [
              "<html>\n",
              "<head><meta charset=\"utf-8\" /></head>\n",
              "<body>\n",
              "    <div>\n",
              "            <script src=\"https://cdnjs.cloudflare.com/ajax/libs/mathjax/2.7.5/MathJax.js?config=TeX-AMS-MML_SVG\"></script><script type=\"text/javascript\">if (window.MathJax) {MathJax.Hub.Config({SVG: {font: \"STIX-Web\"}});}</script>\n",
              "                <script type=\"text/javascript\">window.PlotlyConfig = {MathJaxConfig: 'local'};</script>\n",
              "        <script src=\"https://cdn.plot.ly/plotly-latest.min.js\"></script>    \n",
              "            <div id=\"2fab3ad9-3cb5-4399-bf0e-ee4f7f948796\" class=\"plotly-graph-div\" style=\"height:525px; width:100%;\"></div>\n",
              "            <script type=\"text/javascript\">\n",
              "                \n",
              "                    window.PLOTLYENV=window.PLOTLYENV || {};\n",
              "                    \n",
              "                if (document.getElementById(\"2fab3ad9-3cb5-4399-bf0e-ee4f7f948796\")) {\n",
              "                    Plotly.newPlot(\n",
              "                        '2fab3ad9-3cb5-4399-bf0e-ee4f7f948796',\n",
              "                        [{\"hoverlabel\": {\"namelength\": 0}, \"hovertemplate\": \"sentiment=Negative<br>time=%{x}<br>cnt=%{y}\", \"legendgroup\": \"sentiment=Negative\", \"line\": {\"color\": \"#636efa\", \"dash\": \"solid\"}, \"mode\": \"lines\", \"name\": \"sentiment=Negative\", \"showlegend\": true, \"type\": \"scatter\", \"x\": [\"2019-04-16T18:00:00\", \"2019-04-16T19:00:00\", \"2019-04-16T20:00:00\", \"2019-04-16T21:00:00\", \"2019-04-16T22:00:00\", \"2019-04-16T23:00:00\", \"2019-04-17T00:00:00\", \"2019-04-17T01:00:00\", \"2019-04-17T02:00:00\", \"2019-04-17T03:00:00\", \"2019-04-17T04:00:00\"], \"xaxis\": \"x\", \"y\": [375, 595, 437, 357, 282, 115, 53, 44, 44, 55, 59], \"yaxis\": \"y\"}, {\"hoverlabel\": {\"namelength\": 0}, \"hovertemplate\": \"sentiment=Neutral<br>time=%{x}<br>cnt=%{y}\", \"legendgroup\": \"sentiment=Neutral\", \"line\": {\"color\": \"#EF553B\", \"dash\": \"solid\"}, \"mode\": \"lines\", \"name\": \"sentiment=Neutral\", \"showlegend\": true, \"type\": \"scatter\", \"x\": [\"2019-04-16T18:00:00\", \"2019-04-16T19:00:00\", \"2019-04-16T20:00:00\", \"2019-04-16T21:00:00\", \"2019-04-16T22:00:00\", \"2019-04-16T23:00:00\", \"2019-04-17T00:00:00\", \"2019-04-17T01:00:00\", \"2019-04-17T02:00:00\", \"2019-04-17T03:00:00\", \"2019-04-17T04:00:00\"], \"xaxis\": \"x\", \"y\": [69, 144, 74, 64, 44, 22, 4, 2, 5, 5, 12], \"yaxis\": \"y\"}, {\"hoverlabel\": {\"namelength\": 0}, \"hovertemplate\": \"sentiment=Positive<br>time=%{x}<br>cnt=%{y}\", \"legendgroup\": \"sentiment=Positive\", \"line\": {\"color\": \"#00cc96\", \"dash\": \"solid\"}, \"mode\": \"lines\", \"name\": \"sentiment=Positive\", \"showlegend\": true, \"type\": \"scatter\", \"x\": [\"2019-04-16T18:00:00\", \"2019-04-16T19:00:00\", \"2019-04-16T20:00:00\", \"2019-04-16T21:00:00\", \"2019-04-16T22:00:00\", \"2019-04-16T23:00:00\", \"2019-04-17T00:00:00\", \"2019-04-17T01:00:00\", \"2019-04-17T02:00:00\", \"2019-04-17T03:00:00\", \"2019-04-17T04:00:00\"], \"xaxis\": \"x\", \"y\": [135, 257, 238, 233, 133, 64, 36, 26, 20, 20, 36], \"yaxis\": \"y\"}],\n",
              "                        {\"legend\": {\"tracegroupgap\": 0}, \"margin\": {\"t\": 60}, \"template\": {\"data\": {\"bar\": [{\"error_x\": {\"color\": \"#2a3f5f\"}, \"error_y\": {\"color\": \"#2a3f5f\"}, \"marker\": {\"line\": {\"color\": \"#E5ECF6\", \"width\": 0.5}}, \"type\": \"bar\"}], \"barpolar\": [{\"marker\": {\"line\": {\"color\": \"#E5ECF6\", \"width\": 0.5}}, \"type\": \"barpolar\"}], \"carpet\": [{\"aaxis\": {\"endlinecolor\": \"#2a3f5f\", \"gridcolor\": \"white\", \"linecolor\": \"white\", \"minorgridcolor\": \"white\", \"startlinecolor\": \"#2a3f5f\"}, \"baxis\": {\"endlinecolor\": \"#2a3f5f\", \"gridcolor\": \"white\", \"linecolor\": \"white\", \"minorgridcolor\": \"white\", \"startlinecolor\": \"#2a3f5f\"}, \"type\": \"carpet\"}], \"choropleth\": [{\"colorbar\": {\"outlinewidth\": 0, \"ticks\": \"\"}, \"type\": \"choropleth\"}], \"contour\": [{\"colorbar\": {\"outlinewidth\": 0, \"ticks\": \"\"}, \"colorscale\": [[0.0, \"#0d0887\"], [0.1111111111111111, \"#46039f\"], [0.2222222222222222, \"#7201a8\"], [0.3333333333333333, \"#9c179e\"], [0.4444444444444444, \"#bd3786\"], [0.5555555555555556, \"#d8576b\"], [0.6666666666666666, \"#ed7953\"], [0.7777777777777778, \"#fb9f3a\"], [0.8888888888888888, \"#fdca26\"], [1.0, \"#f0f921\"]], \"type\": \"contour\"}], \"contourcarpet\": [{\"colorbar\": {\"outlinewidth\": 0, \"ticks\": \"\"}, \"type\": \"contourcarpet\"}], \"heatmap\": [{\"colorbar\": {\"outlinewidth\": 0, \"ticks\": \"\"}, \"colorscale\": [[0.0, \"#0d0887\"], [0.1111111111111111, \"#46039f\"], [0.2222222222222222, \"#7201a8\"], [0.3333333333333333, \"#9c179e\"], [0.4444444444444444, \"#bd3786\"], [0.5555555555555556, \"#d8576b\"], [0.6666666666666666, \"#ed7953\"], [0.7777777777777778, \"#fb9f3a\"], [0.8888888888888888, \"#fdca26\"], [1.0, \"#f0f921\"]], \"type\": \"heatmap\"}], \"heatmapgl\": [{\"colorbar\": {\"outlinewidth\": 0, \"ticks\": \"\"}, \"colorscale\": [[0.0, \"#0d0887\"], [0.1111111111111111, \"#46039f\"], [0.2222222222222222, \"#7201a8\"], [0.3333333333333333, \"#9c179e\"], [0.4444444444444444, \"#bd3786\"], [0.5555555555555556, \"#d8576b\"], [0.6666666666666666, \"#ed7953\"], [0.7777777777777778, \"#fb9f3a\"], [0.8888888888888888, \"#fdca26\"], [1.0, \"#f0f921\"]], \"type\": \"heatmapgl\"}], \"histogram\": [{\"marker\": {\"colorbar\": {\"outlinewidth\": 0, \"ticks\": \"\"}}, \"type\": \"histogram\"}], \"histogram2d\": [{\"colorbar\": {\"outlinewidth\": 0, \"ticks\": \"\"}, \"colorscale\": [[0.0, \"#0d0887\"], [0.1111111111111111, \"#46039f\"], [0.2222222222222222, \"#7201a8\"], [0.3333333333333333, \"#9c179e\"], [0.4444444444444444, \"#bd3786\"], [0.5555555555555556, \"#d8576b\"], [0.6666666666666666, \"#ed7953\"], [0.7777777777777778, \"#fb9f3a\"], [0.8888888888888888, \"#fdca26\"], [1.0, \"#f0f921\"]], \"type\": \"histogram2d\"}], \"histogram2dcontour\": [{\"colorbar\": {\"outlinewidth\": 0, \"ticks\": \"\"}, \"colorscale\": [[0.0, \"#0d0887\"], [0.1111111111111111, \"#46039f\"], [0.2222222222222222, \"#7201a8\"], [0.3333333333333333, \"#9c179e\"], [0.4444444444444444, \"#bd3786\"], [0.5555555555555556, \"#d8576b\"], [0.6666666666666666, \"#ed7953\"], [0.7777777777777778, \"#fb9f3a\"], [0.8888888888888888, \"#fdca26\"], [1.0, \"#f0f921\"]], \"type\": \"histogram2dcontour\"}], \"mesh3d\": [{\"colorbar\": {\"outlinewidth\": 0, \"ticks\": \"\"}, \"type\": \"mesh3d\"}], \"parcoords\": [{\"line\": {\"colorbar\": {\"outlinewidth\": 0, \"ticks\": \"\"}}, \"type\": \"parcoords\"}], \"pie\": [{\"automargin\": true, \"type\": \"pie\"}], \"scatter\": [{\"marker\": {\"colorbar\": {\"outlinewidth\": 0, \"ticks\": \"\"}}, \"type\": \"scatter\"}], \"scatter3d\": [{\"line\": {\"colorbar\": {\"outlinewidth\": 0, \"ticks\": \"\"}}, \"marker\": {\"colorbar\": {\"outlinewidth\": 0, \"ticks\": \"\"}}, \"type\": \"scatter3d\"}], \"scattercarpet\": [{\"marker\": {\"colorbar\": {\"outlinewidth\": 0, \"ticks\": \"\"}}, \"type\": \"scattercarpet\"}], \"scattergeo\": [{\"marker\": {\"colorbar\": {\"outlinewidth\": 0, \"ticks\": \"\"}}, \"type\": \"scattergeo\"}], \"scattergl\": [{\"marker\": {\"colorbar\": {\"outlinewidth\": 0, \"ticks\": \"\"}}, \"type\": \"scattergl\"}], \"scattermapbox\": [{\"marker\": {\"colorbar\": {\"outlinewidth\": 0, \"ticks\": \"\"}}, \"type\": \"scattermapbox\"}], \"scatterpolar\": [{\"marker\": {\"colorbar\": {\"outlinewidth\": 0, \"ticks\": \"\"}}, \"type\": \"scatterpolar\"}], \"scatterpolargl\": [{\"marker\": {\"colorbar\": {\"outlinewidth\": 0, \"ticks\": \"\"}}, \"type\": \"scatterpolargl\"}], \"scatterternary\": [{\"marker\": {\"colorbar\": {\"outlinewidth\": 0, \"ticks\": \"\"}}, \"type\": \"scatterternary\"}], \"surface\": [{\"colorbar\": {\"outlinewidth\": 0, \"ticks\": \"\"}, \"colorscale\": [[0.0, \"#0d0887\"], [0.1111111111111111, \"#46039f\"], [0.2222222222222222, \"#7201a8\"], [0.3333333333333333, \"#9c179e\"], [0.4444444444444444, \"#bd3786\"], [0.5555555555555556, \"#d8576b\"], [0.6666666666666666, \"#ed7953\"], [0.7777777777777778, \"#fb9f3a\"], [0.8888888888888888, \"#fdca26\"], [1.0, \"#f0f921\"]], \"type\": \"surface\"}], \"table\": [{\"cells\": {\"fill\": {\"color\": \"#EBF0F8\"}, \"line\": {\"color\": \"white\"}}, \"header\": {\"fill\": {\"color\": \"#C8D4E3\"}, \"line\": {\"color\": \"white\"}}, \"type\": \"table\"}]}, \"layout\": {\"annotationdefaults\": {\"arrowcolor\": \"#2a3f5f\", \"arrowhead\": 0, \"arrowwidth\": 1}, \"coloraxis\": {\"colorbar\": {\"outlinewidth\": 0, \"ticks\": \"\"}}, \"colorscale\": {\"diverging\": [[0, \"#8e0152\"], [0.1, \"#c51b7d\"], [0.2, \"#de77ae\"], [0.3, \"#f1b6da\"], [0.4, \"#fde0ef\"], [0.5, \"#f7f7f7\"], [0.6, \"#e6f5d0\"], [0.7, \"#b8e186\"], [0.8, \"#7fbc41\"], [0.9, \"#4d9221\"], [1, \"#276419\"]], \"sequential\": [[0.0, \"#0d0887\"], [0.1111111111111111, \"#46039f\"], [0.2222222222222222, \"#7201a8\"], [0.3333333333333333, \"#9c179e\"], [0.4444444444444444, \"#bd3786\"], [0.5555555555555556, \"#d8576b\"], [0.6666666666666666, \"#ed7953\"], [0.7777777777777778, \"#fb9f3a\"], [0.8888888888888888, \"#fdca26\"], [1.0, \"#f0f921\"]], \"sequentialminus\": [[0.0, \"#0d0887\"], [0.1111111111111111, \"#46039f\"], [0.2222222222222222, \"#7201a8\"], [0.3333333333333333, \"#9c179e\"], [0.4444444444444444, \"#bd3786\"], [0.5555555555555556, \"#d8576b\"], [0.6666666666666666, \"#ed7953\"], [0.7777777777777778, \"#fb9f3a\"], [0.8888888888888888, \"#fdca26\"], [1.0, \"#f0f921\"]]}, \"colorway\": [\"#636efa\", \"#EF553B\", \"#00cc96\", \"#ab63fa\", \"#FFA15A\", \"#19d3f3\", \"#FF6692\", \"#B6E880\", \"#FF97FF\", \"#FECB52\"], \"font\": {\"color\": \"#2a3f5f\"}, \"geo\": {\"bgcolor\": \"white\", \"lakecolor\": \"white\", \"landcolor\": \"#E5ECF6\", \"showlakes\": true, \"showland\": true, \"subunitcolor\": \"white\"}, \"hoverlabel\": {\"align\": \"left\"}, \"hovermode\": \"closest\", \"mapbox\": {\"style\": \"light\"}, \"paper_bgcolor\": \"white\", \"plot_bgcolor\": \"#E5ECF6\", \"polar\": {\"angularaxis\": {\"gridcolor\": \"white\", \"linecolor\": \"white\", \"ticks\": \"\"}, \"bgcolor\": \"#E5ECF6\", \"radialaxis\": {\"gridcolor\": \"white\", \"linecolor\": \"white\", \"ticks\": \"\"}}, \"scene\": {\"xaxis\": {\"backgroundcolor\": \"#E5ECF6\", \"gridcolor\": \"white\", \"gridwidth\": 2, \"linecolor\": \"white\", \"showbackground\": true, \"ticks\": \"\", \"zerolinecolor\": \"white\"}, \"yaxis\": {\"backgroundcolor\": \"#E5ECF6\", \"gridcolor\": \"white\", \"gridwidth\": 2, \"linecolor\": \"white\", \"showbackground\": true, \"ticks\": \"\", \"zerolinecolor\": \"white\"}, \"zaxis\": {\"backgroundcolor\": \"#E5ECF6\", \"gridcolor\": \"white\", \"gridwidth\": 2, \"linecolor\": \"white\", \"showbackground\": true, \"ticks\": \"\", \"zerolinecolor\": \"white\"}}, \"shapedefaults\": {\"line\": {\"color\": \"#2a3f5f\"}}, \"ternary\": {\"aaxis\": {\"gridcolor\": \"white\", \"linecolor\": \"white\", \"ticks\": \"\"}, \"baxis\": {\"gridcolor\": \"white\", \"linecolor\": \"white\", \"ticks\": \"\"}, \"bgcolor\": \"#E5ECF6\", \"caxis\": {\"gridcolor\": \"white\", \"linecolor\": \"white\", \"ticks\": \"\"}}, \"title\": {\"x\": 0.05}, \"xaxis\": {\"automargin\": true, \"gridcolor\": \"white\", \"linecolor\": \"white\", \"ticks\": \"\", \"title\": {\"standoff\": 15}, \"zerolinecolor\": \"white\", \"zerolinewidth\": 2}, \"yaxis\": {\"automargin\": true, \"gridcolor\": \"white\", \"linecolor\": \"white\", \"ticks\": \"\", \"title\": {\"standoff\": 15}, \"zerolinecolor\": \"white\", \"zerolinewidth\": 2}}}, \"xaxis\": {\"anchor\": \"y\", \"domain\": [0.0, 1.0], \"title\": {\"text\": \"time\"}}, \"yaxis\": {\"anchor\": \"x\", \"domain\": [0.0, 1.0], \"title\": {\"text\": \"cnt\"}}},\n",
              "                        {\"responsive\": true}\n",
              "                    ).then(function(){\n",
              "                            \n",
              "var gd = document.getElementById('2fab3ad9-3cb5-4399-bf0e-ee4f7f948796');\n",
              "var x = new MutationObserver(function (mutations, observer) {{\n",
              "        var display = window.getComputedStyle(gd).display;\n",
              "        if (!display || display === 'none') {{\n",
              "            console.log([gd, 'removed!']);\n",
              "            Plotly.purge(gd);\n",
              "            observer.disconnect();\n",
              "        }}\n",
              "}});\n",
              "\n",
              "// Listen for the removal of the full notebook cells\n",
              "var notebookContainer = gd.closest('#notebook-container');\n",
              "if (notebookContainer) {{\n",
              "    x.observe(notebookContainer, {childList: true});\n",
              "}}\n",
              "\n",
              "// Listen for the clearing of the current output cell\n",
              "var outputEl = gd.closest('.output');\n",
              "if (outputEl) {{\n",
              "    x.observe(outputEl, {childList: true});\n",
              "}}\n",
              "\n",
              "                        })\n",
              "                };\n",
              "                \n",
              "            </script>\n",
              "        </div>\n",
              "</body>\n",
              "</html>"
            ]
          },
          "metadata": {
            "tags": []
          }
        }
      ]
    },
    {
      "cell_type": "markdown",
      "metadata": {
        "id": "a8ris9hKBfaS"
      },
      "source": [
        "# remove hashtag and clean"
      ]
    },
    {
      "cell_type": "code",
      "metadata": {
        "colab": {
          "base_uri": "https://localhost:8080/",
          "height": 406
        },
        "id": "KVHbU4otwP-T",
        "outputId": "ad2962ef-e4ab-450e-cc99-82129a06c234"
      },
      "source": [
        "data20"
      ],
      "execution_count": null,
      "outputs": [
        {
          "output_type": "execute_result",
          "data": {
            "text/html": [
              "<div>\n",
              "<style scoped>\n",
              "    .dataframe tbody tr th:only-of-type {\n",
              "        vertical-align: middle;\n",
              "    }\n",
              "\n",
              "    .dataframe tbody tr th {\n",
              "        vertical-align: top;\n",
              "    }\n",
              "\n",
              "    .dataframe thead th {\n",
              "        text-align: right;\n",
              "    }\n",
              "</style>\n",
              "<table border=\"1\" class=\"dataframe\">\n",
              "  <thead>\n",
              "    <tr style=\"text-align: right;\">\n",
              "      <th></th>\n",
              "      <th>id_str</th>\n",
              "      <th>created_at</th>\n",
              "      <th>full_text</th>\n",
              "      <th>clean_tweet</th>\n",
              "    </tr>\n",
              "  </thead>\n",
              "  <tbody>\n",
              "    <tr>\n",
              "      <th>9994</th>\n",
              "      <td>1382846196859998214</td>\n",
              "      <td>Fri Apr 16 00:00:00 +0000 2021</td>\n",
              "      <td>🇫🇷 FLASH | Un #pédophile de 52 ans a été inter...</td>\n",
              "      <td>🇫🇷 FLASH | Un pédophile de 52 ans a été interp...</td>\n",
              "    </tr>\n",
              "    <tr>\n",
              "      <th>9997</th>\n",
              "      <td>1382846204619423746</td>\n",
              "      <td>Fri Apr 16 00:00:01 +0000 2021</td>\n",
              "      <td>Un jour viendra où les actes de ces criminels ...</td>\n",
              "      <td>Un jour viendra où les actes de ces criminels ...</td>\n",
              "    </tr>\n",
              "    <tr>\n",
              "      <th>9995</th>\n",
              "      <td>1382846201389780992</td>\n",
              "      <td>Fri Apr 16 00:00:01 +0000 2021</td>\n",
              "      <td>Pendant ce temps, à Lyon, Ememem répare les tr...</td>\n",
              "      <td>Pendant ce temps, à Lyon, Ememem répare les tr...</td>\n",
              "    </tr>\n",
              "    <tr>\n",
              "      <th>9996</th>\n",
              "      <td>1382846203742842885</td>\n",
              "      <td>Fri Apr 16 00:00:01 +0000 2021</td>\n",
              "      <td>Situation actuelle du #COVID-19 en #RDC\\n    -...</td>\n",
              "      <td>Situation actuelle du COVID-19 en RDC\\n    -&amp;g...</td>\n",
              "    </tr>\n",
              "    <tr>\n",
              "      <th>9998</th>\n",
              "      <td>1382846206754365441</td>\n",
              "      <td>Fri Apr 16 00:00:02 +0000 2021</td>\n",
              "      <td>🇫🇷 FLASH | #Paris : un #homme s’est #immolé a ...</td>\n",
              "      <td>🇫🇷 FLASH | Paris : un homme s’est immolé a la ...</td>\n",
              "    </tr>\n",
              "    <tr>\n",
              "      <th>...</th>\n",
              "      <td>...</td>\n",
              "      <td>...</td>\n",
              "      <td>...</td>\n",
              "      <td>...</td>\n",
              "    </tr>\n",
              "    <tr>\n",
              "      <th>16014</th>\n",
              "      <td>1387557215482040321</td>\n",
              "      <td>Wed Apr 28 23:59:54 +0000 2021</td>\n",
              "      <td>Mon cousin il a fait un accident, il a cru il ...</td>\n",
              "      <td>Mon cousin il a fait un accident, il a cru il ...</td>\n",
              "    </tr>\n",
              "    <tr>\n",
              "      <th>16015</th>\n",
              "      <td>1387557217231122433</td>\n",
              "      <td>Wed Apr 28 23:59:54 +0000 2021</td>\n",
              "      <td>Pourquoi les #média ne parlent-ils pas des déc...</td>\n",
              "      <td>Pourquoi les média ne parlent-ils pas des décè...</td>\n",
              "    </tr>\n",
              "    <tr>\n",
              "      <th>16016</th>\n",
              "      <td>1387557223778250760</td>\n",
              "      <td>Wed Apr 28 23:59:56 +0000 2021</td>\n",
              "      <td>mds to triste</td>\n",
              "      <td>mds to triste</td>\n",
              "    </tr>\n",
              "    <tr>\n",
              "      <th>16017</th>\n",
              "      <td>1387557225867190277</td>\n",
              "      <td>Wed Apr 28 23:59:56 +0000 2021</td>\n",
              "      <td>🛰 FLASH - Thomas #Pesquet a partagé un cliché ...</td>\n",
              "      <td>🛰 FLASH - Thomas Pesquet a partagé un cliché u...</td>\n",
              "    </tr>\n",
              "    <tr>\n",
              "      <th>16018</th>\n",
              "      <td>1387557238353670144</td>\n",
              "      <td>Wed Apr 28 23:59:59 +0000 2021</td>\n",
              "      <td>Paris en 2ème mi-temps #PSGCity https://t.co/E...</td>\n",
              "      <td>Paris en 2ème mi-temps PSGCity https://t.co/EA...</td>\n",
              "    </tr>\n",
              "  </tbody>\n",
              "</table>\n",
              "<p>5434802 rows × 4 columns</p>\n",
              "</div>"
            ],
            "text/plain": [
              "                    id_str  ...                                        clean_tweet\n",
              "9994   1382846196859998214  ...  🇫🇷 FLASH | Un pédophile de 52 ans a été interp...\n",
              "9997   1382846204619423746  ...  Un jour viendra où les actes de ces criminels ...\n",
              "9995   1382846201389780992  ...  Pendant ce temps, à Lyon, Ememem répare les tr...\n",
              "9996   1382846203742842885  ...  Situation actuelle du COVID-19 en RDC\\n    -&g...\n",
              "9998   1382846206754365441  ...  🇫🇷 FLASH | Paris : un homme s’est immolé a la ...\n",
              "...                    ...  ...                                                ...\n",
              "16014  1387557215482040321  ...  Mon cousin il a fait un accident, il a cru il ...\n",
              "16015  1387557217231122433  ...  Pourquoi les média ne parlent-ils pas des décè...\n",
              "16016  1387557223778250760  ...                                      mds to triste\n",
              "16017  1387557225867190277  ...  🛰 FLASH - Thomas Pesquet a partagé un cliché u...\n",
              "16018  1387557238353670144  ...  Paris en 2ème mi-temps PSGCity https://t.co/EA...\n",
              "\n",
              "[5434802 rows x 4 columns]"
            ]
          },
          "metadata": {
            "tags": []
          },
          "execution_count": 7
        }
      ]
    },
    {
      "cell_type": "code",
      "metadata": {
        "id": "HUN02iq3zUb6"
      },
      "source": [
        "#remove hashtags\n",
        "def cleaner(tweet):\n",
        "    tweet = tweet.replace(\"#\", \"\").replace(\"_\", \" \") #Remove hashtag sign but keep the text\n",
        "    return tweet\n",
        "data20[\"full_text\"] = data20[\"full_text\"].astype(\"str\")\n",
        "data20['clean_tweet'] = data20['full_text'].map(lambda x: cleaner(x))"
      ],
      "execution_count": null,
      "outputs": []
    },
    {
      "cell_type": "markdown",
      "metadata": {
        "id": "n2b3c342A04e"
      },
      "source": [
        "# Sentiment analysis Bert"
      ]
    },
    {
      "cell_type": "code",
      "metadata": {
        "colab": {
          "base_uri": "https://localhost:8080/"
        },
        "id": "aPVZ5wjzBFsM",
        "outputId": "35bfb430-fe53-479e-9a58-2f38c603bb11"
      },
      "source": [
        "!pip install transformers>=4.0\n",
        "!pip install sentencepiece"
      ],
      "execution_count": null,
      "outputs": [
        {
          "output_type": "stream",
          "text": [
            "Requirement already satisfied: sentencepiece in /usr/local/lib/python3.7/dist-packages (0.1.95)\n"
          ],
          "name": "stdout"
        }
      ]
    },
    {
      "cell_type": "code",
      "metadata": {
        "id": "6UoqHacqBPLu"
      },
      "source": [
        "import numpy as np\n",
        "import pickle\n",
        "from sklearn.base import BaseEstimator\n",
        "from sklearn import metrics\n",
        "from sklearn.base import TransformerMixin\n",
        "import tensorflow as tf\n",
        "import time\n",
        "from transformers import CamembertTokenizer\n",
        "from transformers import TFCamembertForSequenceClassification"
      ],
      "execution_count": null,
      "outputs": []
    },
    {
      "cell_type": "code",
      "metadata": {
        "id": "SVwt5rixtHD3"
      },
      "source": [
        "from transformers import CamembertTokenizer\n",
        "\n",
        "model_name = \"camembert-base\"\n",
        "tokenizer = CamembertTokenizer.from_pretrained(model_name)"
      ],
      "execution_count": null,
      "outputs": []
    },
    {
      "cell_type": "code",
      "metadata": {
        "id": "ZAhkdj7TtHD5"
      },
      "source": [
        "\n",
        "import numpy as np\n",
        "\n",
        "def encode_reviews(tokenizer, reviews, max_length):\n",
        "    token_ids = np.zeros(shape=(len(reviews), max_length),\n",
        "                         dtype=np.int32)\n",
        "    for i, review in enumerate(reviews):\n",
        "        encoded = tokenizer.encode(review, max_length=max_length)\n",
        "        token_ids[i, 0:len(encoded)] = encoded\n",
        "    attention_mask = (token_ids != 0).astype(np.int32)\n",
        "    return {\"input_ids\": token_ids, \"attention_mask\": attention_mask}"
      ],
      "execution_count": null,
      "outputs": []
    },
    {
      "cell_type": "code",
      "metadata": {
        "id": "hz9gOlv_tHD5"
      },
      "source": [
        "from sklearn.base import BaseEstimator, TransformerMixin\n",
        "class CamembertPreprocessor(BaseEstimator, TransformerMixin):\n",
        "    def __init__(self, tokenizer, max_seq_length):\n",
        "        self.tokenizer = tokenizer\n",
        "        self.max_seq_length = max_seq_length\n",
        "\n",
        "    def fit(self, X=None):\n",
        "        pass\n",
        "    \n",
        "    def transform(self, X, y):\n",
        "        # 1. Tokenize\n",
        "        X_encoded = encode_reviews(self.tokenizer, X, self.max_seq_length)\n",
        "        # 2. Labels\n",
        "        y_array = np.array(y)\n",
        "        return X_encoded, y_array     \n",
        "    \n",
        "    def fit_transform(self, X, y):        \n",
        "        return self.transform(X, y)"
      ],
      "execution_count": null,
      "outputs": []
    },
    {
      "cell_type": "code",
      "metadata": {
        "id": "aUeVjgsStHD6"
      },
      "source": [
        "\n",
        "import tensorflow as tf\n",
        "assert tf.__version__ >= \"2.0\""
      ],
      "execution_count": null,
      "outputs": []
    },
    {
      "cell_type": "code",
      "metadata": {
        "colab": {
          "base_uri": "https://localhost:8080/"
        },
        "id": "HJ2ICnQAtHD6",
        "outputId": "d7c12b11-e3ac-40b8-b44c-a3abab7747ef"
      },
      "source": [
        "\n",
        "from transformers import TFCamembertForSequenceClassification\n",
        "\n",
        "model = TFCamembertForSequenceClassification.from_pretrained(\"jplu/tf-camembert-base\")\n",
        "\n",
        "opt = tf.keras.optimizers.Adam(learning_rate=5e-6, epsilon=1e-08)\n",
        "loss_fn = tf.keras.losses.SparseCategoricalCrossentropy(from_logits=True)    \n",
        "\n",
        "model.compile(optimizer=opt, loss=loss_fn, metrics=['accuracy'])"
      ],
      "execution_count": null,
      "outputs": [
        {
          "output_type": "stream",
          "text": [
            "All model checkpoint layers were used when initializing TFCamembertForSequenceClassification.\n",
            "\n",
            "Some layers of TFCamembertForSequenceClassification were not initialized from the model checkpoint at jplu/tf-camembert-base and are newly initialized: ['classifier']\n",
            "You should probably TRAIN this model on a down-stream task to be able to use it for predictions and inference.\n"
          ],
          "name": "stderr"
        }
      ]
    },
    {
      "cell_type": "code",
      "metadata": {
        "id": "EwCeInJstYRi"
      },
      "source": [
        " tf.get_logger().setLevel('ERROR')\n"
      ],
      "execution_count": null,
      "outputs": []
    },
    {
      "cell_type": "code",
      "metadata": {
        "colab": {
          "base_uri": "https://localhost:8080/"
        },
        "id": "bL2asVRuX-qI",
        "outputId": "2c1e1ded-49e9-4815-91ad-5e49c21a9954"
      },
      "source": [
        "from google.colab import drive\n",
        "drive.mount('/content/drive')"
      ],
      "execution_count": null,
      "outputs": [
        {
          "output_type": "stream",
          "text": [
            "Drive already mounted at /content/drive; to attempt to forcibly remount, call drive.mount(\"/content/drive\", force_remount=True).\n"
          ],
          "name": "stdout"
        }
      ]
    },
    {
      "cell_type": "code",
      "metadata": {
        "id": "sggIM-xgXx-h"
      },
      "source": [
        "path = \"/content/drive/My Drive/ANR-DISCRET/camembert_weights_lastmodel.hdf5\""
      ],
      "execution_count": null,
      "outputs": []
    },
    {
      "cell_type": "code",
      "metadata": {
        "id": "A6_wNRLjtHD7"
      },
      "source": [
        "from sklearn import metrics\n",
        "\n",
        "model.load_weights(path)\n"
      ],
      "execution_count": null,
      "outputs": []
    },
    {
      "cell_type": "markdown",
      "metadata": {
        "id": "QUzhyRxmdJF7"
      },
      "source": [
        "# getSentiment\n"
      ]
    },
    {
      "cell_type": "code",
      "metadata": {
        "colab": {
          "base_uri": "https://localhost:8080/",
          "height": 35
        },
        "id": "fv_Qq3-AUjc9",
        "outputId": "e7b95fb4-7b54-4441-8717-31bc5a9e3049"
      },
      "source": [
        "device_name = tf.test.gpu_device_name()\n",
        "device_name"
      ],
      "execution_count": null,
      "outputs": [
        {
          "output_type": "execute_result",
          "data": {
            "application/vnd.google.colaboratory.intrinsic+json": {
              "type": "string"
            },
            "text/plain": [
              "'/device:GPU:0'"
            ]
          },
          "metadata": {
            "tags": []
          },
          "execution_count": 19
        }
      ]
    },
    {
      "cell_type": "code",
      "metadata": {
        "colab": {
          "base_uri": "https://localhost:8080/"
        },
        "id": "Qvr9ke_PSEZi",
        "outputId": "ac95b136-6332-41d9-cc0c-8eed5728000f"
      },
      "source": [
        "tf.test.is_built_with_cuda()"
      ],
      "execution_count": null,
      "outputs": [
        {
          "output_type": "execute_result",
          "data": {
            "text/plain": [
              "True"
            ]
          },
          "metadata": {
            "tags": []
          },
          "execution_count": 20
        }
      ]
    },
    {
      "cell_type": "code",
      "metadata": {
        "id": "tVw20NkrzpLO"
      },
      "source": [
        "#données très volumineuse => diviser les données sur 2 data frame \n",
        "data21 = data20.iloc[0:2500000]\n",
        "data22 = data20.iloc[2500000:5434802]\n",
        "\n"
      ],
      "execution_count": null,
      "outputs": []
    },
    {
      "cell_type": "code",
      "metadata": {
        "id": "WNKvOwkNP_0A",
        "colab": {
          "base_uri": "https://localhost:8080/"
        },
        "outputId": "05fb1b23-e2f4-427f-a2f3-32ee8b66d4bf"
      },
      "source": [
        "MAX_SEQ_LEN = 50\n",
        "encoded_test = encode_reviews(tokenizer, data21['clean_tweet'], MAX_SEQ_LEN)"
      ],
      "execution_count": null,
      "outputs": [
        {
          "output_type": "stream",
          "text": [
            "Truncation was not explicitly activated but `max_length` is provided a specific value, please use `truncation=True` to explicitly truncate examples to max length. Defaulting to 'longest_first' truncation strategy. If you encode pairs of sequences (GLUE-style) with the tokenizer you can select this strategy more precisely by providing a specific strategy to `truncation`.\n"
          ],
          "name": "stderr"
        }
      ]
    },
    {
      "cell_type": "code",
      "metadata": {
        "id": "RUtYMQQf1b1R",
        "colab": {
          "base_uri": "https://localhost:8080/"
        },
        "outputId": "fd0c5643-7b40-4862-d293-e0b1d5b60dd3"
      },
      "source": [
        "size = len(data21['clean_tweet'])\n",
        "with tf.device('/device:GPU:0'):\n",
        "  tic = time.time()\n",
        "  pred = model.predict(encoded_test)\n",
        "  gpu_time0 = time.time() - tic \n",
        "  print('Total GPU time for {} texts is {}'.format(size, str(round(gpu_time0, 2))))\n",
        "#tab_inf_time.at[0, 'GPU'] = gpu_time0"
      ],
      "execution_count": null,
      "outputs": [
        {
          "output_type": "stream",
          "text": [
            "Total GPU time for 2500000 texts is 4579.52\n"
          ],
          "name": "stdout"
        }
      ]
    },
    {
      "cell_type": "code",
      "metadata": {
        "id": "qEjIou7s6oYQ",
        "colab": {
          "base_uri": "https://localhost:8080/"
        },
        "outputId": "a375958a-1425-4e2b-c99e-4c2f0e1a68a9"
      },
      "source": [
        "pred['logits']"
      ],
      "execution_count": null,
      "outputs": [
        {
          "output_type": "execute_result",
          "data": {
            "text/plain": [
              "array([[ 1.1559104 , -1.1422813 ],\n",
              "       [-0.45602155,  0.40601686],\n",
              "       [-1.7261404 ,  1.7338504 ],\n",
              "       ...,\n",
              "       [ 0.1071965 , -0.10716034],\n",
              "       [ 0.21242768, -0.22224468],\n",
              "       [ 0.77679527, -0.7360965 ]], dtype=float32)"
            ]
          },
          "metadata": {
            "tags": []
          },
          "execution_count": 25
        }
      ]
    },
    {
      "cell_type": "code",
      "metadata": {
        "id": "sOiWnlA5hXhn"
      },
      "source": [
        "dfcol = pd.DataFrame(pred['logits'],columns = ['a','b'])"
      ],
      "execution_count": null,
      "outputs": []
    },
    {
      "cell_type": "code",
      "metadata": {
        "id": "9PGCD2F4hXd0"
      },
      "source": [
        "#append a and b to data frame\n",
        "b = dfcol[\"b\"]\n",
        "a=dfcol[\"a\"]\n",
        "\n",
        "data21 = data21.join(a)\n",
        "data21 = data21.join(b)\n"
      ],
      "execution_count": null,
      "outputs": []
    },
    {
      "cell_type": "markdown",
      "metadata": {
        "id": "qClMp1Mj24Gt"
      },
      "source": [
        "# Calculate score for bert"
      ]
    },
    {
      "cell_type": "code",
      "metadata": {
        "colab": {
          "base_uri": "https://localhost:8080/",
          "height": 573
        },
        "id": "G2T5SGruoS-A",
        "outputId": "6a794c31-3a03-433f-c591-d659e27c24c7"
      },
      "source": [
        "data21"
      ],
      "execution_count": null,
      "outputs": [
        {
          "output_type": "execute_result",
          "data": {
            "text/html": [
              "<div>\n",
              "<style scoped>\n",
              "    .dataframe tbody tr th:only-of-type {\n",
              "        vertical-align: middle;\n",
              "    }\n",
              "\n",
              "    .dataframe tbody tr th {\n",
              "        vertical-align: top;\n",
              "    }\n",
              "\n",
              "    .dataframe thead th {\n",
              "        text-align: right;\n",
              "    }\n",
              "</style>\n",
              "<table border=\"1\" class=\"dataframe\">\n",
              "  <thead>\n",
              "    <tr style=\"text-align: right;\">\n",
              "      <th></th>\n",
              "      <th>id_str</th>\n",
              "      <th>created_at</th>\n",
              "      <th>full_text</th>\n",
              "      <th>clean_tweet</th>\n",
              "      <th>a</th>\n",
              "      <th>b</th>\n",
              "    </tr>\n",
              "  </thead>\n",
              "  <tbody>\n",
              "    <tr>\n",
              "      <th>0</th>\n",
              "      <td>1382889504428679168</td>\n",
              "      <td>Fri Apr 16 02:52:05 +0000 2021</td>\n",
              "      <td>J -  ?? Aubervilliers   @Paris2024 ? https://t...</td>\n",
              "      <td>J -  ?? Aubervilliers   @Paris2024 ? https://t...</td>\n",
              "      <td>1.155910</td>\n",
              "      <td>-1.142281</td>\n",
              "    </tr>\n",
              "    <tr>\n",
              "      <th>0</th>\n",
              "      <td>1382941865343848449</td>\n",
              "      <td>Fri Apr 16 06:20:09 +0000 2021</td>\n",
              "      <td>Oui, on se bat contre la nullité, la corruptio...</td>\n",
              "      <td>Oui, on se bat contre la nullité, la corruptio...</td>\n",
              "      <td>1.155910</td>\n",
              "      <td>-1.142281</td>\n",
              "    </tr>\n",
              "    <tr>\n",
              "      <th>0</th>\n",
              "      <td>1382963299051048960</td>\n",
              "      <td>Fri Apr 16 07:45:19 +0000 2021</td>\n",
              "      <td>Floutage des policiers ✅\\nDrone dans toutes le...</td>\n",
              "      <td>Floutage des policiers ✅\\nDrone dans toutes le...</td>\n",
              "      <td>1.155910</td>\n",
              "      <td>-1.142281</td>\n",
              "    </tr>\n",
              "    <tr>\n",
              "      <th>0</th>\n",
              "      <td>1382982769047916548</td>\n",
              "      <td>Fri Apr 16 09:02:41 +0000 2021</td>\n",
              "      <td>Alerte arrestation du Professeur Fourtillan du...</td>\n",
              "      <td>Alerte arrestation du Professeur Fourtillan du...</td>\n",
              "      <td>1.155910</td>\n",
              "      <td>-1.142281</td>\n",
              "    </tr>\n",
              "    <tr>\n",
              "      <th>0</th>\n",
              "      <td>1383001953249136645</td>\n",
              "      <td>Fri Apr 16 10:18:55 +0000 2021</td>\n",
              "      <td>@ItsVayasworld @Panda8084 @FrenchyNoob_ @Desii...</td>\n",
              "      <td>@ItsVayasworld @Panda8084 @FrenchyNoob  @Desii...</td>\n",
              "      <td>1.155910</td>\n",
              "      <td>-1.142281</td>\n",
              "    </tr>\n",
              "    <tr>\n",
              "      <th>...</th>\n",
              "      <td>...</td>\n",
              "      <td>...</td>\n",
              "      <td>...</td>\n",
              "      <td>...</td>\n",
              "      <td>...</td>\n",
              "      <td>...</td>\n",
              "    </tr>\n",
              "    <tr>\n",
              "      <th>19945</th>\n",
              "      <td>1383770760951390208</td>\n",
              "      <td>Sun Apr 18 13:13:53 +0000 2021</td>\n",
              "      <td>Paris meilleur ville possible pour un gars fau...</td>\n",
              "      <td>Paris meilleur ville possible pour un gars fau...</td>\n",
              "      <td>0.784578</td>\n",
              "      <td>-0.760674</td>\n",
              "    </tr>\n",
              "    <tr>\n",
              "      <th>19946</th>\n",
              "      <td>1383770761215713285</td>\n",
              "      <td>Sun Apr 18 13:13:53 +0000 2021</td>\n",
              "      <td>Turquie : 128 milliards dollars de réserves de...</td>\n",
              "      <td>Turquie : 128 milliards dollars de réserves de...</td>\n",
              "      <td>1.971470</td>\n",
              "      <td>-1.949509</td>\n",
              "    </tr>\n",
              "    <tr>\n",
              "      <th>19947</th>\n",
              "      <td>1383770763694460929</td>\n",
              "      <td>Sun Apr 18 13:13:53 +0000 2021</td>\n",
              "      <td>Oue on a tous vu le chockeslam sur Hamouma</td>\n",
              "      <td>Oue on a tous vu le chockeslam sur Hamouma</td>\n",
              "      <td>0.791485</td>\n",
              "      <td>-0.783295</td>\n",
              "    </tr>\n",
              "    <tr>\n",
              "      <th>19948</th>\n",
              "      <td>1383770764063641613</td>\n",
              "      <td>Sun Apr 18 13:13:54 +0000 2021</td>\n",
              "      <td>🔵L'OM se croit relancé mais retombe dans ses t...</td>\n",
              "      <td>🔵L'OM se croit relancé mais retombe dans ses t...</td>\n",
              "      <td>0.555177</td>\n",
              "      <td>-0.517444</td>\n",
              "    </tr>\n",
              "    <tr>\n",
              "      <th>19949</th>\n",
              "      <td>1383770764088811532</td>\n",
              "      <td>Sun Apr 18 13:13:54 +0000 2021</td>\n",
              "      <td>En 2015 le Barça a battu un PSG sans son meill...</td>\n",
              "      <td>En 2015 le Barça a battu un PSG sans son meill...</td>\n",
              "      <td>-1.011642</td>\n",
              "      <td>1.018845</td>\n",
              "    </tr>\n",
              "  </tbody>\n",
              "</table>\n",
              "<p>2500000 rows × 6 columns</p>\n",
              "</div>"
            ],
            "text/plain": [
              "                    id_str                      created_at  ...         a         b\n",
              "0      1382889504428679168  Fri Apr 16 02:52:05 +0000 2021  ...  1.155910 -1.142281\n",
              "0      1382941865343848449  Fri Apr 16 06:20:09 +0000 2021  ...  1.155910 -1.142281\n",
              "0      1382963299051048960  Fri Apr 16 07:45:19 +0000 2021  ...  1.155910 -1.142281\n",
              "0      1382982769047916548  Fri Apr 16 09:02:41 +0000 2021  ...  1.155910 -1.142281\n",
              "0      1383001953249136645  Fri Apr 16 10:18:55 +0000 2021  ...  1.155910 -1.142281\n",
              "...                    ...                             ...  ...       ...       ...\n",
              "19945  1383770760951390208  Sun Apr 18 13:13:53 +0000 2021  ...  0.784578 -0.760674\n",
              "19946  1383770761215713285  Sun Apr 18 13:13:53 +0000 2021  ...  1.971470 -1.949509\n",
              "19947  1383770763694460929  Sun Apr 18 13:13:53 +0000 2021  ...  0.791485 -0.783295\n",
              "19948  1383770764063641613  Sun Apr 18 13:13:54 +0000 2021  ...  0.555177 -0.517444\n",
              "19949  1383770764088811532  Sun Apr 18 13:13:54 +0000 2021  ... -1.011642  1.018845\n",
              "\n",
              "[2500000 rows x 6 columns]"
            ]
          },
          "metadata": {
            "tags": []
          },
          "execution_count": 28
        }
      ]
    },
    {
      "cell_type": "code",
      "metadata": {
        "id": "x5eOGtfjlVCR"
      },
      "source": [
        "#mise à l'échelle -1,1\n",
        "def transfrom(x):\n",
        "    return ((x - 0)/(1-0)) * (1+1) - 1"
      ],
      "execution_count": null,
      "outputs": []
    },
    {
      "cell_type": "code",
      "metadata": {
        "id": "49KHtp60ciAb",
        "colab": {
          "base_uri": "https://localhost:8080/",
          "height": 33
        },
        "outputId": "3aff8c05-c5f0-44ca-cc0c-aa3d7c6ddea8"
      },
      "source": [
        "\n",
        "\n",
        "data21['score'] = np.exp(data21['b']) / ( np.exp(data21['b']) +  np.exp(data21['a']))\n",
        "data21['score'] = transfrom(data21['score'])\n",
        "del(data21['a'])\n",
        "del(data21['b'])\n",
        "del(data21['full_text'])\n",
        "data21.loc[data21['score'] <= -0.1, 'sentiment'] = 'Negative' \n",
        "data21.loc[data21['score'] >= 0.1, 'sentiment'] = 'Positive' \n",
        "data21.loc[data21['score'].between(-0.1,0.1), 'sentiment'] = 'Neutral' \n",
        "\n",
        "\n",
        "from google.colab import files\n",
        "data21.to_pickle('data21textavrilbert1.pkl')\n",
        "files.download('data21textavrilbert1.pkl')\n"
      ],
      "execution_count": null,
      "outputs": [
        {
          "output_type": "display_data",
          "data": {
            "application/javascript": [
              "\n",
              "    async function download(id, filename, size) {\n",
              "      if (!google.colab.kernel.accessAllowed) {\n",
              "        return;\n",
              "      }\n",
              "      const div = document.createElement('div');\n",
              "      const label = document.createElement('label');\n",
              "      label.textContent = `Downloading \"${filename}\": `;\n",
              "      div.appendChild(label);\n",
              "      const progress = document.createElement('progress');\n",
              "      progress.max = size;\n",
              "      div.appendChild(progress);\n",
              "      document.body.appendChild(div);\n",
              "\n",
              "      const buffers = [];\n",
              "      let downloaded = 0;\n",
              "\n",
              "      const channel = await google.colab.kernel.comms.open(id);\n",
              "      // Send a message to notify the kernel that we're ready.\n",
              "      channel.send({})\n",
              "\n",
              "      for await (const message of channel.messages) {\n",
              "        // Send a message to notify the kernel that we're ready.\n",
              "        channel.send({})\n",
              "        if (message.buffers) {\n",
              "          for (const buffer of message.buffers) {\n",
              "            buffers.push(buffer);\n",
              "            downloaded += buffer.byteLength;\n",
              "            progress.value = downloaded;\n",
              "          }\n",
              "        }\n",
              "      }\n",
              "      const blob = new Blob(buffers, {type: 'application/binary'});\n",
              "      const a = document.createElement('a');\n",
              "      a.href = window.URL.createObjectURL(blob);\n",
              "      a.download = filename;\n",
              "      div.appendChild(a);\n",
              "      a.click();\n",
              "      div.remove();\n",
              "    }\n",
              "  "
            ],
            "text/plain": [
              "<IPython.core.display.Javascript object>"
            ]
          },
          "metadata": {
            "tags": []
          }
        },
        {
          "output_type": "display_data",
          "data": {
            "application/javascript": [
              "download(\"download_0c36ae5f-206f-4863-b32d-b023451874b7\", \"data21textavrilbert1.pkl\", 490837480)"
            ],
            "text/plain": [
              "<IPython.core.display.Javascript object>"
            ]
          },
          "metadata": {
            "tags": []
          }
        }
      ]
    }
  ]
}